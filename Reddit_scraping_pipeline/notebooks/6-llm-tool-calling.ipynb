{
 "cells": [
  {
   "cell_type": "code",
   "execution_count": null,
   "id": "9d448bb9",
   "metadata": {},
   "outputs": [],
   "source": [
    "import os\n",
    "import io\n",
    "import contextlib\n",
    "from dotenv import load_dotenv\n",
    "\n",
    "load_dotenv()"
   ]
  },
  {
   "cell_type": "code",
   "execution_count": null,
   "id": "10775806",
   "metadata": {},
   "outputs": [],
   "source": [
    "GOOGLE_GEMINI_API_KEY = os.environ.get(\"GOOGLE_GEMINI_API_KEY\")\n",
    "assert GOOGLE_GEMINI_API_KEY is not None"
   ]
  },
  {
   "cell_type": "code",
   "execution_count": null,
   "id": "5448324e",
   "metadata": {},
   "outputs": [],
   "source": [
    "BRIGHT_DATA_SERP_API_KEY = os.environ.get(\"BRIGHT_DATA_SERP_API_KEY\")\n",
    "assert BRIGHT_DATA_SERP_API_KEY is not None"
   ]
  },
  {
   "cell_type": "code",
   "execution_count": null,
   "id": "9248166f",
   "metadata": {},
   "outputs": [],
   "source": [
    "from langchain_brightdata import BrightDataSERP\n",
    "\n",
    "serp_tool = BrightDataSERP(\n",
    "    bright_data_api_key=BRIGHT_DATA_SERP_API_KEY,\n",
    "    search_engine=\"google\",\n",
    "    country=\"us\",\n",
    "    parse_results=True\n",
    ")"
   ]
  },
  {
   "cell_type": "code",
   "execution_count": null,
   "id": "2a1f5d11",
   "metadata": {},
   "outputs": [],
   "source": [
    "serp_tool.name"
   ]
  },
  {
   "cell_type": "code",
   "execution_count": null,
   "id": "c00ee622",
   "metadata": {},
   "outputs": [],
   "source": [
    "from langchain.chat_models import init_chat_model\n",
    "\n",
    "model = init_chat_model(\"gemini-2.5-flash\", model_provider=\"google_genai\", api_key=GOOGLE_GEMINI_API_KEY)"
   ]
  },
  {
   "cell_type": "code",
   "execution_count": null,
   "id": "aa1ac61d",
   "metadata": {},
   "outputs": [],
   "source": [
    "tools = [serp_tool]"
   ]
  },
  {
   "cell_type": "code",
   "execution_count": null,
   "id": "c68d0589",
   "metadata": {},
   "outputs": [],
   "source": [
    "tool_mapping = {x.name: x for x in tools}"
   ]
  },
  {
   "cell_type": "code",
   "execution_count": null,
   "id": "e50f1b46",
   "metadata": {},
   "outputs": [],
   "source": [
    "\n",
    "llm = model.bind_tools(tools) # llm_with_tools"
   ]
  },
  {
   "cell_type": "code",
   "execution_count": null,
   "id": "99ecd54d",
   "metadata": {},
   "outputs": [],
   "source": [
    "ai_msg = llm.invoke(\"When was Python made?\")"
   ]
  },
  {
   "cell_type": "code",
   "execution_count": null,
   "id": "e71678bf",
   "metadata": {},
   "outputs": [],
   "source": [
    "ai_msg.tool_calls"
   ]
  },
  {
   "cell_type": "code",
   "execution_count": null,
   "id": "4dc03b3b",
   "metadata": {},
   "outputs": [],
   "source": [
    "for tool_call_val in ai_msg.tool_calls:\n",
    "    func_name = tool_call_val.get(\"name\")\n",
    "    func_args = tool_call_val.get(\"args\")\n",
    "    _tool = tool_mapping.get(func_name)\n",
    "    _id = tool_call_val.get(\"id\")\n",
    "    print(func_name, func_args, _tool)\n",
    "    tool_result = _tool.invoke(func_args)\n",
    "    print(tool_result)"
   ]
  }
 ],
 "metadata": {
  "kernelspec": {
   "display_name": ".venv",
   "language": "python",
   "name": "python3"
  },
  "language_info": {
   "codemirror_mode": {
    "name": "ipython",
    "version": 3
   },
   "file_extension": ".py",
   "mimetype": "text/x-python",
   "name": "python",
   "nbconvert_exporter": "python",
   "pygments_lexer": "ipython3",
   "version": "3.13.7"
  }
 },
 "nbformat": 4,
 "nbformat_minor": 5
}
