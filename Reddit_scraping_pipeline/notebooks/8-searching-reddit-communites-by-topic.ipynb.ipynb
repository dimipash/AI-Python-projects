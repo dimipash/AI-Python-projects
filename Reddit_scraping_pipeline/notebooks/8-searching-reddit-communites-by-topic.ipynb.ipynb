{
 "cells": [
  {
   "cell_type": "code",
   "execution_count": null,
   "id": "9d448bb9",
   "metadata": {},
   "outputs": [],
   "source": [
    "import os\n",
    "import io\n",
    "import contextlib\n",
    "from dotenv import load_dotenv\n",
    "\n",
    "load_dotenv()"
   ]
  },
  {
   "cell_type": "code",
   "execution_count": null,
   "id": "10775806",
   "metadata": {},
   "outputs": [],
   "source": [
    "GOOGLE_GEMINI_API_KEY = os.environ.get(\"GOOGLE_GEMINI_API_KEY\")\n",
    "assert GOOGLE_GEMINI_API_KEY is not None"
   ]
  },
  {
   "cell_type": "code",
   "execution_count": null,
   "id": "5448324e",
   "metadata": {},
   "outputs": [],
   "source": [
    "BRIGHT_DATA_SERP_API_KEY = os.environ.get(\"BRIGHT_DATA_SERP_API_KEY\")\n",
    "assert BRIGHT_DATA_SERP_API_KEY is not None"
   ]
  },
  {
   "cell_type": "code",
   "execution_count": null,
   "id": "9248166f",
   "metadata": {},
   "outputs": [],
   "source": [
    "from langchain_brightdata import BrightDataSERP\n",
    "\n",
    "serp_tool = BrightDataSERP(\n",
    "    bright_data_api_key=BRIGHT_DATA_SERP_API_KEY,\n",
    "    search_engine=\"google\",\n",
    "    country=\"us\",\n",
    "    parse_results=True\n",
    ")"
   ]
  },
  {
   "cell_type": "code",
   "execution_count": null,
   "id": "2a1f5d11",
   "metadata": {},
   "outputs": [],
   "source": [
    "serp_tool.name"
   ]
  },
  {
   "cell_type": "code",
   "execution_count": null,
   "id": "c00ee622",
   "metadata": {},
   "outputs": [],
   "source": [
    "from langchain.chat_models import init_chat_model\n",
    "\n",
    "model = init_chat_model(\"gemini-2.5-flash\", model_provider=\"google_genai\", api_key=GOOGLE_GEMINI_API_KEY)"
   ]
  },
  {
   "cell_type": "code",
   "execution_count": null,
   "id": "d44ba33d",
   "metadata": {},
   "outputs": [],
   "source": [
    "agent_prompt = \"\"\"\n",
    "You are an expert assistant that can search the internet to find the best reddit communities for any given topic.\n",
    "\n",
    "You are also an expert at finding niche communites that discuss the same topic. \n",
    "\"\"\""
   ]
  },
  {
   "cell_type": "code",
   "execution_count": null,
   "id": "5995ac99",
   "metadata": {},
   "outputs": [],
   "source": [
    "from pydantic import BaseModel, Field\n",
    "\n",
    "class RedditCommunity(BaseModel):\n",
    "    name: str = Field(description=\"Formatted name for Reddit\")\n",
    "    url: str = Field(description=\"The complete url of the reddit community\")\n",
    "    subreddit_slug: str = Field(description=\"The slug of the subbreddit such as r/python or r/web or r/trending\")\n",
    "    member_count: int | None = Field(description=\"Current member count, if available.\")\n",
    "\n",
    "class RedditCommunites(BaseModel):\n",
    "    communities: list[RedditCommunity] = Field(description=\"The list of reddit communites\")"
   ]
  },
  {
   "cell_type": "code",
   "execution_count": null,
   "id": "2c76c33a",
   "metadata": {},
   "outputs": [],
   "source": [
    "from langgraph.prebuilt import create_react_agent\n",
    "\n",
    "reddit_agent = create_react_agent(\n",
    "    model=model,  \n",
    "    tools=[serp_tool],\n",
    "    prompt=agent_prompt,\n",
    "    response_format=RedditCommunites\n",
    ")\n",
    "\n",
    "# Run the agent\n",
    "results = reddit_agent.invoke(\n",
    "    {\"messages\": [{\"role\": \"user\", \"content\": \"python, javascript, django, web\"}]},\n",
    "    stream_mode=\"values\"\n",
    ")"
   ]
  },
  {
   "cell_type": "code",
   "execution_count": null,
   "id": "c3ad7feb",
   "metadata": {},
   "outputs": [],
   "source": [
    "results['messages'][-1].content"
   ]
  },
  {
   "cell_type": "code",
   "execution_count": null,
   "id": "660817d3",
   "metadata": {},
   "outputs": [],
   "source": [
    "for subreddit in results[\"structured_response\"].communities:\n",
    "    print(subreddit.name, subreddit.url, subreddit.subreddit_slug, subreddit.member_count)"
   ]
  }
 ],
 "metadata": {
  "kernelspec": {
   "display_name": ".venv",
   "language": "python",
   "name": "python3"
  },
  "language_info": {
   "codemirror_mode": {
    "name": "ipython",
    "version": 3
   },
   "file_extension": ".py",
   "mimetype": "text/x-python",
   "name": "python",
   "nbconvert_exporter": "python",
   "pygments_lexer": "ipython3",
   "version": "3.13.7"
  }
 },
 "nbformat": 4,
 "nbformat_minor": 5
}
