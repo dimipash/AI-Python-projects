{
 "cells": [
  {
   "cell_type": "code",
   "execution_count": 1,
   "id": "5b4e3ec2",
   "metadata": {},
   "outputs": [
    {
     "data": {
      "text/plain": [
       "True"
      ]
     },
     "execution_count": 1,
     "metadata": {},
     "output_type": "execute_result"
    }
   ],
   "source": [
    "import os\n",
    "from dotenv import load_dotenv\n",
    "\n",
    "load_dotenv()"
   ]
  },
  {
   "cell_type": "code",
   "execution_count": 2,
   "id": "c6d87451",
   "metadata": {},
   "outputs": [],
   "source": [
    "BRIGHT_DATA_REDDIT_SCRAPER_API_KEY = os.environ.get(\n",
    "    \"BRIGHT_DATA_REDDIT_SCRAPER_API_KEY\"\n",
    ")\n",
    "assert BRIGHT_DATA_REDDIT_SCRAPER_API_KEY is not None"
   ]
  },
  {
   "cell_type": "code",
   "execution_count": 3,
   "id": "d5be74b2",
   "metadata": {},
   "outputs": [],
   "source": [
    "def get_crawl_headers():\n",
    "    return {\n",
    "        \"Authorization\": f\"Bearer {BRIGHT_DATA_REDDIT_SCRAPER_API_KEY}\",\n",
    "        \"Content-Type\": \"application/json\",\n",
    "    }"
   ]
  },
  {
   "cell_type": "code",
   "execution_count": 4,
   "id": "2d3d911b",
   "metadata": {},
   "outputs": [
    {
     "data": {
      "text/plain": [
       "'s_mgahh1fwdgpbldqv7'"
      ]
     },
     "execution_count": 4,
     "metadata": {},
     "output_type": "execute_result"
    }
   ],
   "source": [
    "import requests\n",
    "\n",
    "\n",
    "def perform_scrape_snapshot(subreddit_url, num_of_posts: int = 20):\n",
    "    url = \"https://api.brightdata.com/datasets/v3/trigger\"\n",
    "    headers = get_crawl_headers()\n",
    "    params = {\n",
    "        \"dataset_id\": \"gd_lvz8ah06191smkebj4\",\n",
    "        \"include_errors\": \"true\",\n",
    "        \"type\": \"discover_new\",\n",
    "        \"discover_by\": \"subreddit_url\",\n",
    "        \"limit_per_input\": \"100\",\n",
    "    }\n",
    "    data = [\n",
    "        {\n",
    "            \"url\": f\"{subreddit_url}\",\n",
    "            \"sort_by\": \"Top\",\n",
    "            \"sort_by_time\": \"Today\",\n",
    "            \"num_of_posts\": num_of_posts,\n",
    "        },\n",
    "    ]\n",
    "\n",
    "    response = requests.post(url, headers=headers, params=params, json=data)\n",
    "    response.raise_for_status()\n",
    "    data = response.json()\n",
    "    return data.get(\"snapshot_id\")\n",
    "\n",
    "\n",
    "perform_scrape_snapshot(\"https://www.reddit.com/r/Django\", num_of_posts=25)"
   ]
  }
 ],
 "metadata": {
  "kernelspec": {
   "display_name": ".venv",
   "language": "python",
   "name": "python3"
  },
  "language_info": {
   "codemirror_mode": {
    "name": "ipython",
    "version": 3
   },
   "file_extension": ".py",
   "mimetype": "text/x-python",
   "name": "python",
   "nbconvert_exporter": "python",
   "pygments_lexer": "ipython3",
   "version": "3.13.7"
  }
 },
 "nbformat": 4,
 "nbformat_minor": 5
}
